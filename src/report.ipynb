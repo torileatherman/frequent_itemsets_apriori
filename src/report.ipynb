{
 "cells": [
  {
   "cell_type": "markdown",
   "metadata": {},
   "source": [
    "# Homework 2: Discovery of Frequent Itemsets and Association Rules\n",
    "Authors: Tori Leatherman & Eva Engel \\\n",
    "Date: 21st November 2022\n",
    "\n",
    "# Task\n",
    "The task can be divided into two sub-problem: \n",
    "1. (A-Priori Algorithm) Find frequent itemsets with support at least *s_threshold*.\n",
    "1. Generate association rules with confidence at least *c_threshold* from the itemsets found in the first step.\n",
    "\n",
    "Our code reproduces the algorithm that was introduced by R. Agrawal and R. Srikant in [Fast Algorithms for Mining Association Rules](https://www.vldb.org/conf/1994/P487.PDF).\n",
    "\n",
    "\n",
    "## Set up \n",
    "1. *pip install -r /path/to/requirements.txt*\n"
   ]
  },
  {
   "cell_type": "markdown",
   "metadata": {},
   "source": [
    "### Import"
   ]
  },
  {
   "cell_type": "code",
   "execution_count": 1,
   "metadata": {},
   "outputs": [],
   "source": [
    "from itertools import combinations\n",
    "import matplotlib.pyplot as plt\n",
    "\n",
    "from apriori import Apriori\n",
    "from association_rule_finder import AssociationRuleFinder\n",
    "from dataset_reader import read_transactions"
   ]
  },
  {
   "cell_type": "markdown",
   "metadata": {},
   "source": [
    "### Data Set"
   ]
  },
  {
   "cell_type": "code",
   "execution_count": 2,
   "metadata": {},
   "outputs": [
    {
     "name": "stdout",
     "output_type": "stream",
     "text": [
      "Data set is load.\n",
      "Data set contains 100000 transactions and 870 unique items.\n"
     ]
    }
   ],
   "source": [
    "dataset_file = 'T10I4D100K.dat'\n",
    "transactions = read_transactions(dataset_file)\n",
    "print(f\"Data set contains {len(transactions)} transactions and {len(set.union(*transactions))} unique items.\")"
   ]
  },
  {
   "cell_type": "code",
   "execution_count": 3,
   "metadata": {},
   "outputs": [
    {
     "data": {
      "image/png": "[encoded data removed]",
      "text/plain": [
       "<Figure size 640x480 with 1 Axes>"
      ]
     },
     "metadata": {},
     "output_type": "display_data"
    }
   ],
   "source": [
    "# Distribution of items per basket\n",
    "\n",
    "nof_items= [len(transaction) for transaction in transactions]\n",
    "plt.hist(nof_items)\n",
    "plt.title('Distribution of items per basket')\n",
    "plt.xlabel('Number of items per basket')\n",
    "plt.ylabel('Frequency')\n",
    "plt.show()"
   ]
  },
  {
   "cell_type": "markdown",
   "metadata": {},
   "source": [
    "# Frequent items (A-Priori Algorithm)\n",
    "The A-Priori algorithm is an algorithm developed to find frequent itemsets. It is unique in that it limits the memory usage, making it a preferred method for large datasets. In order to limit the memory, the A-Priori algorithm is based on the concept of **Monotonicity of Support**, which can be defined as follows: the support of an itemset is at least large as the support of its superset. Thus we need only evaluate supersets if its subsets are frequent. This creates a k-pass approach. The first pass is dedicated to counting individual items. Each subsequent k-th pass, will find frequent itemsets of size k. Thus, the second pass will create candidates out of combinations from the 1st pass, and determine if any of the candidates are frequent. This is continued until the threshold is no longer met.\n",
    "\n",
    "The inputs into the algorithm are baskets of items, in our case these are the transactions, and the s_threshold, which we set to 90%. This means that we are assuming 10% of the itemsets in the transactions are frequent and filter accordingly. The output of this algorithm are the frequent sets, ranging from size 1 (singletones) to 6."
   ]
  },
  {
   "cell_type": "code",
   "execution_count": 5,
   "metadata": {},
   "outputs": [
    {
     "name": "stdout",
     "output_type": "stream",
     "text": [
      "The support threshold is 2695.0000000000005\n",
      "1st Pass: Frequent items = 87\n",
      "2th Pass: Candidates = 3741\n"
     ]
    },
    {
     "ename": "TypeError",
     "evalue": "Apriori.filter_frequent_item_sets() got an unexpected keyword argument 'k_itemsets'",
     "output_type": "error",
     "traceback": [
      "\u001b[0;31m---------------------------------------------------------------------------\u001b[0m",
      "\u001b[0;31mTypeError\u001b[0m                                 Traceback (most recent call last)",
      "Cell \u001b[0;32mIn [5], line 2\u001b[0m\n\u001b[1;32m      1\u001b[0m finder \u001b[39m=\u001b[39m Apriori(transactions, s_threshold\u001b[39m=\u001b[39m\u001b[39m0.9\u001b[39m)\n\u001b[0;32m----> 2\u001b[0m k_frequent_items \u001b[39m=\u001b[39m finder\u001b[39m.\u001b[39;49mapriori()\n",
      "File \u001b[0;32m~/ID2222_Data_Mining_Github/frequent_itemsets_apriori/src/apriori.py:114\u001b[0m, in \u001b[0;36mApriori.apriori\u001b[0;34m(self)\u001b[0m\n\u001b[1;32m    110\u001b[0m \u001b[39mprint\u001b[39m(\u001b[39mf\u001b[39m\u001b[39m\"\u001b[39m\u001b[39m{\u001b[39;00mk\u001b[39m}\u001b[39;00m\u001b[39mth Pass: Candidates = \u001b[39m\u001b[39m{\u001b[39;00m\u001b[39mlen\u001b[39m(candidates)\u001b[39m}\u001b[39;00m\u001b[39m\"\u001b[39m)\n\u001b[1;32m    112\u001b[0m \u001b[39mif\u001b[39;00m \u001b[39mlen\u001b[39m(candidates) \u001b[39m>\u001b[39m \u001b[39m0\u001b[39m:\n\u001b[1;32m    113\u001b[0m     \u001b[39m# Get the frequent items \u001b[39;00m\n\u001b[0;32m--> 114\u001b[0m     new_frequent_items \u001b[39m=\u001b[39m \u001b[39mself\u001b[39;49m\u001b[39m.\u001b[39;49mfilter_frequent_item_sets(candidates, k_itemsets \u001b[39m=\u001b[39;49m k)\n\u001b[1;32m    115\u001b[0m     \u001b[39mprint\u001b[39m(\u001b[39mf\u001b[39m\u001b[39m\"\u001b[39m\u001b[39mFrequent items = \u001b[39m\u001b[39m{\u001b[39;00m\u001b[39mlen\u001b[39m(new_frequent_items)\u001b[39m}\u001b[39;00m\u001b[39m\\n\u001b[39;00m\u001b[39m -------------------------------------\u001b[39m\u001b[39m\"\u001b[39m)\n\u001b[1;32m    117\u001b[0m     \u001b[39m# Update the current frequent item set (only keys)\u001b[39;00m\n",
      "\u001b[0;31mTypeError\u001b[0m: Apriori.filter_frequent_item_sets() got an unexpected keyword argument 'k_itemsets'"
     ]
    }
   ],
   "source": [
    "finder = Apriori(transactions, s_threshold=0.9)\n",
    "k_frequent_items = finder.apriori()"
   ]
  },
  {
   "cell_type": "markdown",
   "metadata": {},
   "source": [
    "### Get the largest itemset with the highest support"
   ]
  },
  {
   "cell_type": "code",
   "execution_count": null,
   "metadata": {},
   "outputs": [],
   "source": [
    "max_k = len(list(k_frequent_items.keys())[-1])"
   ]
  },
  {
   "cell_type": "code",
   "execution_count": null,
   "metadata": {},
   "outputs": [],
   "source": [
    "max_k_itemset = {k: v for k,v in k_frequent_items.items() if len(k) == max_k}\n",
    "max_k_itemset"
   ]
  },
  {
   "cell_type": "code",
   "execution_count": null,
   "metadata": {},
   "outputs": [],
   "source": [
    "for k in range(1,max_k+1):\n",
    "\n",
    "    supports = [val for key,val in k_frequent_items.items() if len(key) == k]\n",
    "    plt.hist(supports)\n",
    "    plt.xlabel('Support for each frequent item')\n",
    "    plt.ylabel('Frequency')\n",
    "    plt.title(f'Frequent item sets with length {k}')\n",
    "    plt.show()"
   ]
  },
  {
   "cell_type": "markdown",
   "metadata": {},
   "source": [
    "# Association rules\n",
    "\n",
    "In this subproblem, we are finding all association rules with support of at least s_threshold, and confidence of at least c_threshold. We use the same support threshold as mentioned above, where 90% means that we assume  10% of items are frequent and filter accordingly. According to the lecture, we assume a confidence threshold of 50% in order for the rule to have a practical effect.\n",
    "\n",
    "Our Association Rule Finder functions as follows:\n",
    "- Find all frequent itemsets, *I* with at least given support s_threshold.\n",
    "- For each subset *A* of *I*, we generate a rule such that *A* -> *I* \\ *A*\n",
    "    - We then compute the confidence of this rule using the following formula:\n",
    "    conf( *I* -> *I* / *A*) = supp(*I*) / supp(*A*)\n",
    "- Return all rules that are above the confidence threshold"
   ]
  },
  {
   "cell_type": "code",
   "execution_count": null,
   "metadata": {},
   "outputs": [],
   "source": [
    "rule_finder = AssociationRuleFinder()\n",
    "rules = rule_finder.find_rules(k_frequent_items)"
   ]
  },
  {
   "cell_type": "code",
   "execution_count": null,
   "metadata": {},
   "outputs": [],
   "source": [
    "# Return all association rules and their corresponding confidence levels\n",
    "sorted(((v,k) for k,v in rules.items()), reverse=True)"
   ]
  },
  {
   "cell_type": "markdown",
   "metadata": {},
   "source": [
    "# Experiments"
   ]
  },
  {
   "cell_type": "markdown",
   "metadata": {},
   "source": [
    "## Monotonicity of support\n",
    "The following shows that the support of a set is at least as large as the support of its subsets. We take the largest and most frequent item set and show that its subsets have a greater support. "
   ]
  },
  {
   "cell_type": "code",
   "execution_count": null,
   "metadata": {},
   "outputs": [],
   "source": [
    "max_k_support= max(max_k_itemset, key=lambda k: max_k_itemset[k])\n",
    "print(max_k_support, max_k_itemset[max_k_support])\n"
   ]
  },
  {
   "cell_type": "code",
   "execution_count": null,
   "metadata": {},
   "outputs": [],
   "source": [
    "# Returns each frequent itemset and its corresponding support\n",
    "for k_length in range(1, len(max_k_support)):\n",
    "    for subset in [frozenset(combination) for combination in combinations(max_k_support, k_length)]:\n",
    "        print(subset, k_frequent_items.get(subset))\n",
    "    print('----------------------------------')\n",
    "print(max_k_support, max_k_itemset[max_k_support])"
   ]
  }
 ],
 "metadata": {
  "kernelspec": {
   "display_name": "Python 3.10.0 64-bit",
   "language": "python",
   "name": "python3"
  },
  "language_info": {
   "codemirror_mode": {
    "name": "ipython",
    "version": 3
   },
   "file_extension": ".py",
   "mimetype": "text/x-python",
   "name": "python",
   "nbconvert_exporter": "python",
   "pygments_lexer": "ipython3",
   "version": "3.10.0"
  },
  "orig_nbformat": 4,
  "vscode": {
   "interpreter": {
    "hash": "aee8b7b246df8f9039afb4144a1f6fd8d2ca17a180786b69acc140d282b71a49"
   }
  }
 },
 "nbformat": 4,
 "nbformat_minor": 2
}
